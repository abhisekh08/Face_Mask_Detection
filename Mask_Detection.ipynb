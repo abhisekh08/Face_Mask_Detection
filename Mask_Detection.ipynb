{
 "cells": [
  {
   "cell_type": "markdown",
   "metadata": {
    "id": "Mo2BW5kEjxY_"
   },
   "source": [
    "**Face Mask Detection using VGG16 Knowledge transfer method**"
   ]
  },
  {
   "cell_type": "markdown",
   "metadata": {
    "id": "TBSs0kovrtEx"
   },
   "source": [
    "**Mounting drive for dataset access**"
   ]
  },
  {
   "cell_type": "code",
   "execution_count": null,
   "metadata": {
    "colab": {
     "base_uri": "https://localhost:8080/",
     "height": 125
    },
    "id": "q20JcDe_JX5U",
    "outputId": "4647a495-caee-4ff4-ae43-53e2f206dc03"
   },
   "outputs": [
    {
     "name": "stdout",
     "output_type": "stream",
     "text": [
      "Go to this URL in a browser: https://accounts.google.com/o/oauth2/auth?client_id=947318989803-6bn6qk8qdgf4n4g3pfee6491hc0brc4i.apps.googleusercontent.com&redirect_uri=urn%3aietf%3awg%3aoauth%3a2.0%3aoob&scope=email%20https%3a%2f%2fwww.googleapis.com%2fauth%2fdocs.test%20https%3a%2f%2fwww.googleapis.com%2fauth%2fdrive%20https%3a%2f%2fwww.googleapis.com%2fauth%2fdrive.photos.readonly%20https%3a%2f%2fwww.googleapis.com%2fauth%2fpeopleapi.readonly&response_type=code\n",
      "\n",
      "Enter your authorization code:\n",
      "··········\n",
      "Mounted at /content/drive\n"
     ]
    }
   ],
   "source": [
    "from google.colab import drive\n",
    "drive.mount(\"/content/drive\")"
   ]
  },
  {
   "cell_type": "code",
   "execution_count": null,
   "metadata": {
    "id": "aPLLd7d8KUJw"
   },
   "outputs": [],
   "source": [
    "!unzip \"/content/drive/My Drive/Mask_Unmask_dataset.zip\""
   ]
  },
  {
   "cell_type": "code",
   "execution_count": null,
   "metadata": {
    "id": "QEpaxHQkkhQw"
   },
   "outputs": [],
   "source": [
    "import numpy as np\n",
    "import pandas as pd\n",
    "import os\n",
    "import cv2\n",
    "\n",
    "import keras\n",
    "from keras.preprocessing.image import load_img\n",
    "from keras.preprocessing.image import img_to_array\n",
    "from keras.utils import to_categorical\n",
    "from sklearn.model_selection import train_test_split\n",
    "from keras.preprocessing.image import ImageDataGenerator\n",
    "from keras.optimizers import Adam\n",
    "\n",
    "from keras.applications.vgg16 import VGG16\n",
    "from keras.layers import Dense, Flatten, Input\n",
    "from keras.activations import relu, softmax\n",
    "from keras.models import Model"
   ]
  },
  {
   "cell_type": "markdown",
   "metadata": {
    "id": "9JlfVUAYkZcH"
   },
   "source": [
    "**Preparing dataset for model training**"
   ]
  },
  {
   "cell_type": "code",
   "execution_count": null,
   "metadata": {
    "id": "uRCpBgzDkL_R"
   },
   "outputs": [],
   "source": [
    "classes = os.listdir(\"/content/dataset\")\n",
    "# 0 for mask\n",
    "# 1 for no mask"
   ]
  },
  {
   "cell_type": "markdown",
   "metadata": {
    "id": "veoVmLyaTu5c"
   },
   "source": [
    "**Reading image data**"
   ]
  },
  {
   "cell_type": "code",
   "execution_count": null,
   "metadata": {
    "colab": {
     "base_uri": "https://localhost:8080/",
     "height": 72
    },
    "id": "lVBbscTnkwyr",
    "outputId": "b8edd78b-9559-4a47-9b26-db28a8157436"
   },
   "outputs": [
    {
     "name": "stderr",
     "output_type": "stream",
     "text": [
      "/usr/local/lib/python3.6/dist-packages/PIL/Image.py:932: UserWarning: Palette images with Transparency expressed in bytes should be converted to RGBA images\n",
      "  \"Palette images with Transparency expressed in bytes should be \"\n"
     ]
    }
   ],
   "source": [
    "pixel = []\n",
    "label = []\n",
    "\n",
    "for category in classes:\n",
    "  imagepath = os.path.join(\"/content/dataset\",category)\n",
    "  images = os.listdir(imagepath)\n",
    "  for image in images:\n",
    "    # processing of images\n",
    "    img = load_img(os.path.join(imagepath,image),target_size=(224,224))\n",
    "    img = img_to_array(img)\n",
    "    img = img / 255.0\n",
    "\n",
    "    pixel.append(img)\n",
    "    label.append(classes.index(category))\n",
    "  \n",
    "# onehot encoding the labels\n",
    "label = to_categorical(label)"
   ]
  },
  {
   "cell_type": "code",
   "execution_count": null,
   "metadata": {
    "id": "SVCxalyskyLc"
   },
   "outputs": [],
   "source": [
    "pixel = np.array(pixel)\n",
    "pixel = pixel.reshape(pixel.shape[0],224,224,3)\n",
    "label = np.array(label)"
   ]
  },
  {
   "cell_type": "markdown",
   "metadata": {
    "id": "u-s8nUlrdeC3"
   },
   "source": [
    "**spliting of dataset for train and test**"
   ]
  },
  {
   "cell_type": "code",
   "execution_count": null,
   "metadata": {
    "id": "y3xMangtZaA9"
   },
   "outputs": [],
   "source": [
    "(trainX, testX, trainY, testY) = train_test_split(pixel,label,test_size = 0.3, random_state = 101)"
   ]
  },
  {
   "cell_type": "markdown",
   "metadata": {
    "id": "6htcQwenfOhr"
   },
   "source": [
    "**Image Augmentation** "
   ]
  },
  {
   "cell_type": "code",
   "execution_count": null,
   "metadata": {
    "id": "o6F17xBIel2D"
   },
   "outputs": [],
   "source": [
    "aug = ImageDataGenerator(\n",
    "\trotation_range=20,\n",
    "\tzoom_range=0.15,\n",
    "\twidth_shift_range=0.2,\n",
    "\theight_shift_range=0.2,\n",
    "\tshear_range=0.15,\n",
    "\thorizontal_flip=True,\n",
    "\tfill_mode=\"nearest\")"
   ]
  },
  {
   "cell_type": "markdown",
   "metadata": {
    "id": "sqKxBMIWgTwX"
   },
   "source": [
    "**Model design**"
   ]
  },
  {
   "cell_type": "code",
   "execution_count": null,
   "metadata": {
    "colab": {
     "base_uri": "https://localhost:8080/",
     "height": 890
    },
    "id": "FEOVEiwifg12",
    "outputId": "8be296da-0a37-4dd7-b225-1fe411e3b3e2"
   },
   "outputs": [
    {
     "name": "stdout",
     "output_type": "stream",
     "text": [
      "Downloading data from https://storage.googleapis.com/tensorflow/keras-applications/vgg16/vgg16_weights_tf_dim_ordering_tf_kernels_notop.h5\n",
      "58892288/58889256 [==============================] - 1s 0us/step\n",
      "Model: \"vgg16\"\n",
      "_________________________________________________________________\n",
      "Layer (type)                 Output Shape              Param #   \n",
      "=================================================================\n",
      "input_1 (InputLayer)         [(None, None, None, 3)]   0         \n",
      "_________________________________________________________________\n",
      "block1_conv1 (Conv2D)        (None, None, None, 64)    1792      \n",
      "_________________________________________________________________\n",
      "block1_conv2 (Conv2D)        (None, None, None, 64)    36928     \n",
      "_________________________________________________________________\n",
      "block1_pool (MaxPooling2D)   (None, None, None, 64)    0         \n",
      "_________________________________________________________________\n",
      "block2_conv1 (Conv2D)        (None, None, None, 128)   73856     \n",
      "_________________________________________________________________\n",
      "block2_conv2 (Conv2D)        (None, None, None, 128)   147584    \n",
      "_________________________________________________________________\n",
      "block2_pool (MaxPooling2D)   (None, None, None, 128)   0         \n",
      "_________________________________________________________________\n",
      "block3_conv1 (Conv2D)        (None, None, None, 256)   295168    \n",
      "_________________________________________________________________\n",
      "block3_conv2 (Conv2D)        (None, None, None, 256)   590080    \n",
      "_________________________________________________________________\n",
      "block3_conv3 (Conv2D)        (None, None, None, 256)   590080    \n",
      "_________________________________________________________________\n",
      "block3_pool (MaxPooling2D)   (None, None, None, 256)   0         \n",
      "_________________________________________________________________\n",
      "block4_conv1 (Conv2D)        (None, None, None, 512)   1180160   \n",
      "_________________________________________________________________\n",
      "block4_conv2 (Conv2D)        (None, None, None, 512)   2359808   \n",
      "_________________________________________________________________\n",
      "block4_conv3 (Conv2D)        (None, None, None, 512)   2359808   \n",
      "_________________________________________________________________\n",
      "block4_pool (MaxPooling2D)   (None, None, None, 512)   0         \n",
      "_________________________________________________________________\n",
      "block5_conv1 (Conv2D)        (None, None, None, 512)   2359808   \n",
      "_________________________________________________________________\n",
      "block5_conv2 (Conv2D)        (None, None, None, 512)   2359808   \n",
      "_________________________________________________________________\n",
      "block5_conv3 (Conv2D)        (None, None, None, 512)   2359808   \n",
      "_________________________________________________________________\n",
      "block5_pool (MaxPooling2D)   (None, None, None, 512)   0         \n",
      "=================================================================\n",
      "Total params: 14,714,688\n",
      "Trainable params: 14,714,688\n",
      "Non-trainable params: 0\n",
      "_________________________________________________________________\n"
     ]
    }
   ],
   "source": [
    "model = VGG16(include_top=False, weights='imagenet')\n",
    "model.summary()"
   ]
  },
  {
   "cell_type": "code",
   "execution_count": null,
   "metadata": {
    "id": "UHEX8wcKgeOh"
   },
   "outputs": [],
   "source": [
    "# making the VGG16 model part untrainable.\n",
    "\n",
    "for layer in model.layers:\n",
    "  layer.trainable = False"
   ]
  },
  {
   "cell_type": "code",
   "execution_count": null,
   "metadata": {
    "colab": {
     "base_uri": "https://localhost:8080/",
     "height": 372
    },
    "id": "4IPvR9I4tCMo",
    "outputId": "a9ce50f6-7e2e-4985-a92a-7aeae8f53f78"
   },
   "outputs": [
    {
     "name": "stdout",
     "output_type": "stream",
     "text": [
      "Model: \"functional_1\"\n",
      "_________________________________________________________________\n",
      "Layer (type)                 Output Shape              Param #   \n",
      "=================================================================\n",
      "input_2 (InputLayer)         [(None, 224, 224, 3)]     0         \n",
      "_________________________________________________________________\n",
      "vgg16 (Functional)           (None, None, None, 512)   14714688  \n",
      "_________________________________________________________________\n",
      "flatten (Flatten)            (None, 25088)             0         \n",
      "_________________________________________________________________\n",
      "dense (Dense)                (None, 4096)              102764544 \n",
      "_________________________________________________________________\n",
      "dense_1 (Dense)              (None, 512)               2097664   \n",
      "_________________________________________________________________\n",
      "dense_2 (Dense)              (None, 2)                 1026      \n",
      "=================================================================\n",
      "Total params: 119,577,922\n",
      "Trainable params: 104,863,234\n",
      "Non-trainable params: 14,714,688\n",
      "_________________________________________________________________\n"
     ]
    }
   ],
   "source": [
    "# Combining the Model\n",
    "\n",
    "# Defining the input layer\n",
    "inputlayer = Input(shape =  (224,224,3))\n",
    "\n",
    "# VGG16 model layer\n",
    "vggmodel = model(inputlayer)\n",
    "\n",
    "# Defining the outlayer or top layer for VGG16\n",
    "outlayer = Flatten()(vggmodel)\n",
    "outlayer = Dense(4096, activation=\"relu\")(outlayer)\n",
    "outlayer = Dense(512, activation=\"relu\")(outlayer)\n",
    "outlayer = Dense(2,activation=\"softmax\")(outlayer)\n",
    "\n",
    "# Combining the layers\n",
    "clsmodel = Model(inputs = inputlayer, outputs = outlayer)\n",
    "clsmodel.summary()"
   ]
  },
  {
   "cell_type": "markdown",
   "metadata": {
    "id": "F9yDs3Unx6Pm"
   },
   "source": [
    "**Training of model**"
   ]
  },
  {
   "cell_type": "code",
   "execution_count": null,
   "metadata": {
    "id": "S7cG0MbQu7Ay"
   },
   "outputs": [],
   "source": [
    "# initialize the initial learning rate, number of epochs to train for,\n",
    "# and batch size\n",
    "\n",
    "INIT_LR = 1e-4\n",
    "EPOCHS = 20\n",
    "BS = 32"
   ]
  },
  {
   "cell_type": "code",
   "execution_count": null,
   "metadata": {
    "id": "lzf5SjC-x908"
   },
   "outputs": [],
   "source": [
    "# compilie the model\n",
    "\n",
    "opt = Adam(INIT_LR, decay = INIT_LR/EPOCHS)\n",
    "clsmodel.compile(optimizer=opt, loss = \"binary_crossentropy\", metrics = [\"accuracy\"])"
   ]
  },
  {
   "cell_type": "code",
   "execution_count": null,
   "metadata": {
    "colab": {
     "base_uri": "https://localhost:8080/",
     "height": 727
    },
    "id": "-wfpfTkCzBao",
    "outputId": "4900e117-a6d9-48c1-93d9-8d190a04ff0f"
   },
   "outputs": [
    {
     "name": "stdout",
     "output_type": "stream",
     "text": [
      "Epoch 1/20\n",
      "85/85 [==============================] - 35s 415ms/step - loss: 0.0393 - accuracy: 0.9859 - val_loss: 0.0246 - val_accuracy: 0.9922\n",
      "Epoch 2/20\n",
      "85/85 [==============================] - 35s 414ms/step - loss: 0.0273 - accuracy: 0.9907 - val_loss: 0.0294 - val_accuracy: 0.9913\n",
      "Epoch 3/20\n",
      "85/85 [==============================] - 35s 412ms/step - loss: 0.0326 - accuracy: 0.9863 - val_loss: 0.0270 - val_accuracy: 0.9922\n",
      "Epoch 4/20\n",
      "85/85 [==============================] - 35s 413ms/step - loss: 0.0292 - accuracy: 0.9889 - val_loss: 0.0295 - val_accuracy: 0.9922\n",
      "Epoch 5/20\n",
      "85/85 [==============================] - 35s 412ms/step - loss: 0.0320 - accuracy: 0.9896 - val_loss: 0.0588 - val_accuracy: 0.9749\n",
      "Epoch 6/20\n",
      "85/85 [==============================] - 35s 411ms/step - loss: 0.0253 - accuracy: 0.9922 - val_loss: 0.0251 - val_accuracy: 0.9913\n",
      "Epoch 7/20\n",
      "85/85 [==============================] - 35s 413ms/step - loss: 0.0253 - accuracy: 0.9900 - val_loss: 0.0370 - val_accuracy: 0.9870\n",
      "Epoch 8/20\n",
      "85/85 [==============================] - 35s 412ms/step - loss: 0.0336 - accuracy: 0.9859 - val_loss: 0.0289 - val_accuracy: 0.9931\n",
      "Epoch 9/20\n",
      "85/85 [==============================] - 35s 414ms/step - loss: 0.0253 - accuracy: 0.9900 - val_loss: 0.0405 - val_accuracy: 0.9853\n",
      "Epoch 10/20\n",
      "85/85 [==============================] - 35s 413ms/step - loss: 0.0162 - accuracy: 0.9926 - val_loss: 0.0288 - val_accuracy: 0.9905\n",
      "Epoch 11/20\n",
      "85/85 [==============================] - 35s 417ms/step - loss: 0.0312 - accuracy: 0.9881 - val_loss: 0.0271 - val_accuracy: 0.9939\n",
      "Epoch 12/20\n",
      "85/85 [==============================] - 35s 415ms/step - loss: 0.0194 - accuracy: 0.9955 - val_loss: 0.0297 - val_accuracy: 0.9931\n",
      "Epoch 13/20\n",
      "85/85 [==============================] - 35s 414ms/step - loss: 0.0215 - accuracy: 0.9903 - val_loss: 0.0682 - val_accuracy: 0.9809\n",
      "Epoch 14/20\n",
      "85/85 [==============================] - 35s 416ms/step - loss: 0.0219 - accuracy: 0.9911 - val_loss: 0.0322 - val_accuracy: 0.9922\n",
      "Epoch 15/20\n",
      "85/85 [==============================] - 35s 412ms/step - loss: 0.0180 - accuracy: 0.9929 - val_loss: 0.0373 - val_accuracy: 0.9905\n",
      "Epoch 16/20\n",
      "85/85 [==============================] - 35s 413ms/step - loss: 0.0346 - accuracy: 0.9863 - val_loss: 0.0313 - val_accuracy: 0.9905\n",
      "Epoch 17/20\n",
      "85/85 [==============================] - 35s 411ms/step - loss: 0.0373 - accuracy: 0.9859 - val_loss: 0.0326 - val_accuracy: 0.9896\n",
      "Epoch 18/20\n",
      "85/85 [==============================] - 35s 411ms/step - loss: 0.0148 - accuracy: 0.9944 - val_loss: 0.0275 - val_accuracy: 0.9913\n",
      "Epoch 19/20\n",
      "85/85 [==============================] - 35s 412ms/step - loss: 0.0174 - accuracy: 0.9937 - val_loss: 0.0396 - val_accuracy: 0.9896\n",
      "Epoch 20/20\n",
      "85/85 [==============================] - 35s 412ms/step - loss: 0.0166 - accuracy: 0.9933 - val_loss: 0.0376 - val_accuracy: 0.9887\n"
     ]
    }
   ],
   "source": [
    "# training of the model\n",
    "History = clsmodel.fit(\n",
    "\taug.flow(trainX, trainY, batch_size=BS),\n",
    "\tvalidation_data=(testX, testY),\n",
    "\tepochs=EPOCHS,\n",
    "\tverbose=1)"
   ]
  },
  {
   "cell_type": "code",
   "execution_count": null,
   "metadata": {
    "colab": {
     "base_uri": "https://localhost:8080/",
     "height": 176
    },
    "id": "gUg5ie90znzi",
    "outputId": "c2a039aa-1827-47d2-f2f0-7ae2d15af6a3"
   },
   "outputs": [
    {
     "name": "stdout",
     "output_type": "stream",
     "text": [
      "              precision    recall  f1-score   support\n",
      "\n",
      "   with_mask       0.99      0.98      0.99       570\n",
      "without_mask       0.98      0.99      0.99       584\n",
      "\n",
      "    accuracy                           0.99      1154\n",
      "   macro avg       0.99      0.99      0.99      1154\n",
      "weighted avg       0.99      0.99      0.99      1154\n",
      "\n"
     ]
    }
   ],
   "source": [
    "# Evaluation of the model\n",
    "predictions = clsmodel.predict(testX)\n",
    "predictions = predictions.argmax(axis=1)\n",
    "\n",
    "from sklearn.metrics import classification_report\n",
    "print(classification_report(testY.argmax(axis=1), predictions,target_names=classes))"
   ]
  },
  {
   "cell_type": "code",
   "execution_count": null,
   "metadata": {
    "colab": {
     "base_uri": "https://localhost:8080/",
     "height": 298
    },
    "id": "GV3XFrOk5Zhq",
    "outputId": "218e01fb-e916-4a6a-ecf0-55cdd4c6cb00"
   },
   "outputs": [
    {
     "data": {
      "image/png": "[encoded data removed]",
      "text/plain": [
       "<Figure size 432x288 with 1 Axes>"
      ]
     },
     "metadata": {
      "tags": []
     },
     "output_type": "display_data"
    }
   ],
   "source": [
    "# plot the training loss and accuracy\n",
    "import matplotlib.pyplot as plt\n",
    "%matplotlib inline\n",
    "\n",
    "N = EPOCHS\n",
    "plt.style.use(\"ggplot\")\n",
    "plt.figure()\n",
    "plt.plot(np.arange(0, N), History.history[\"loss\"], label=\"train_loss\")\n",
    "plt.plot(np.arange(0, N), History.history[\"accuracy\"], label=\"train_accuracy\")\n",
    "plt.title(\"Training Loss and Accuracy\")\n",
    "plt.xlabel(\"Epoch #\")\n",
    "plt.ylabel(\"Loss/Accuracy\")\n",
    "plt.legend(loc=\"lower left\")\n",
    "plt.savefig(\"/content/drive/My Drive/Face_mask_detection_project/maskclassifiermodelplot.png\")"
   ]
  },
  {
   "cell_type": "code",
   "execution_count": null,
   "metadata": {
    "id": "7gasgNQu2Kdc"
   },
   "outputs": [],
   "source": [
    "# Saving the model\n",
    "clsmodel.save(\"/content/drive/My Drive/Face_mask_detection_project/maskclassifiermodel.h5\")"
   ]
  },
  {
   "cell_type": "code",
   "execution_count": null,
   "metadata": {
    "id": "nlyZizMB6KsU"
   },
   "outputs": [],
   "source": []
  }
 ],
 "metadata": {
  "accelerator": "GPU",
  "colab": {
   "collapsed_sections": [],
   "name": "Mask_Detection.ipynb",
   "provenance": []
  },
  "kernelspec": {
   "display_name": "Python 3",
   "language": "python",
   "name": "python3"
  },
  "language_info": {
   "codemirror_mode": {
    "name": "ipython",
    "version": 3
   },
   "file_extension": ".py",
   "mimetype": "text/x-python",
   "name": "python",
   "nbconvert_exporter": "python",
   "pygments_lexer": "ipython3",
   "version": "3.7.4"
  }
 },
 "nbformat": 4,
 "nbformat_minor": 1
}
