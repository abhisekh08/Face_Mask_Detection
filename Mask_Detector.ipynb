{
 "cells": [
  {
   "cell_type": "code",
   "execution_count": 7,
   "metadata": {},
   "outputs": [],
   "source": [
    "import numpy as np\n",
    "import pandas as pd\n",
    "import cv2\n",
    "import keras\n",
    "\n",
    "from keras.preprocessing.image import img_to_array"
   ]
  },
  {
   "cell_type": "code",
   "execution_count": 11,
   "metadata": {},
   "outputs": [],
   "source": [
    "# Face cascade\n",
    "facecls = cv2.CascadeClassifier('haarcascade_frontalface_default.xml')\n",
    "\n",
    "#load model\n",
    "model = keras.models.load_model(\"mask_detector.model\")"
   ]
  },
  {
   "cell_type": "code",
   "execution_count": 19,
   "metadata": {
    "scrolled": true
   },
   "outputs": [],
   "source": [
    "frame = cv2.imread(\"test.jpg\")\n",
    "gray = cv2.cvtColor(frame, cv2.COLOR_BGR2GRAY)\n",
    "faces = facecls.detectMultiScale(gray,1.1,4)\n",
    "\n",
    "predclass = [\"With Mask\",\"No Mask\"]\n",
    "\n",
    "# processing and detecting the faces\n",
    "for x,y,w,h in faces:\n",
    "    croppedimg = frame[y:(y+h),x:(x+w)]\n",
    "    croppedimg = cv2.resize(croppedimg,(224,224))\n",
    "    croppedimg = img_to_array(croppedimg)\n",
    "    croppedimg = croppedimg/255.0\n",
    "    croppedimg = croppedimg.reshape(224,224,3)\n",
    "    croppedimg = np.expand_dims(croppedimg,axis=0)\n",
    "    \n",
    "    prediction = model.predict(croppedimg)\n",
    "    tag = predclass[np.argmax(prediction)]\n",
    "    if tag == 'No Mask':\n",
    "        cv2.rectangle(frame, (x,y), ((x+w),(y+h)), (0,0,255), 2)\n",
    "    else:\n",
    "        cv2.rectangle(frame, (x,y), ((x+w),(y+h)), (0,255,0), 2)\n",
    "    \n",
    "    cv2.putText(frame, tag, (x, y),  cv2.FONT_HERSHEY_SIMPLEX, 0.7, (255, 0, 0), 2)\n",
    "    \n",
    "    cv2.imwrite(\"Output.jpg\",frame)"
   ]
  },
  {
   "cell_type": "code",
   "execution_count": null,
   "metadata": {},
   "outputs": [],
   "source": []
  },
  {
   "cell_type": "code",
   "execution_count": null,
   "metadata": {},
   "outputs": [],
   "source": []
  }
 ],
 "metadata": {
  "kernelspec": {
   "display_name": "Python 3",
   "language": "python",
   "name": "python3"
  },
  "language_info": {
   "codemirror_mode": {
    "name": "ipython",
    "version": 3
   },
   "file_extension": ".py",
   "mimetype": "text/x-python",
   "name": "python",
   "nbconvert_exporter": "python",
   "pygments_lexer": "ipython3",
   "version": "3.7.4"
  }
 },
 "nbformat": 4,
 "nbformat_minor": 2
}
